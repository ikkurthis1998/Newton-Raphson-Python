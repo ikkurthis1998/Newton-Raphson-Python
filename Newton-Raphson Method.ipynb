{
 "cells": [
  {
   "cell_type": "code",
   "execution_count": 93,
   "metadata": {},
   "outputs": [
    {
     "name": "stdout",
     "output_type": "stream",
     "text": [
      "Minima at: 3.0000112777680217\n",
      "Minimum function value: 27.000000000381565\n"
     ]
    }
   ],
   "source": [
    "## This code is developed by Sreemannarayana Ikkurthi\n",
    "## As a part of course notes for the course 15AES477: Multidisciplinary Design Optimization (MDO) \n",
    "## In support of Dr. Rajesh Senthil Kumar T., Assistant Professor \n",
    "## Department of Aerospace Engneering, Amrita Vishwa Vidyapeetham\n",
    "\n",
    "################################################## NEWTON RAPHSON #########################################################\n",
    "def d_f(x, dx):\n",
    "    df = (f(x+dx)-f(x-dx))/2*dx\n",
    "    return df\n",
    "\n",
    "def d2_f(x, dx):\n",
    "    d2f = (f(x+dx)-2*f(x)+f(x-dx))/(dx**2)\n",
    "    return d2f\n",
    "    \n",
    "def new_x(x):\n",
    "    newx = x - (d_f(x, dx)/d2_f(x, dx))\n",
    "    return newx\n",
    "\n",
    "def optima(x, dx):\n",
    "    while abs(d_f(x, dx)) > 0.0000000001:\n",
    "        x = new_x(x)\n",
    "    return x\n",
    "###########################################################################################################################    \n",
    "\n",
    "####################################################### INPUT #############################################################\n",
    "x_o = 100000 ## INITIAL SEARCH POINT\n",
    "dx = 0.01\n",
    "x = x_o\n",
    "\n",
    "## OBJECTIVE FUNCTION\n",
    "def f(x):\n",
    "    fun = x**2 + 54/x\n",
    "    return fun\n",
    "###########################################################################################################################\n",
    "\n",
    "x = optima(x, dx)\n",
    "print(f'Minima at: {x}')\n",
    "print(f'Minimum function value: {f(x)}')"
   ]
  },
  {
   "cell_type": "code",
   "execution_count": null,
   "metadata": {},
   "outputs": [],
   "source": []
  }
 ],
 "metadata": {
  "kernelspec": {
   "display_name": "Python 3",
   "language": "python",
   "name": "python3"
  },
  "language_info": {
   "codemirror_mode": {
    "name": "ipython",
    "version": 3
   },
   "file_extension": ".py",
   "mimetype": "text/x-python",
   "name": "python",
   "nbconvert_exporter": "python",
   "pygments_lexer": "ipython3",
   "version": "3.7.6"
  }
 },
 "nbformat": 4,
 "nbformat_minor": 4
}
